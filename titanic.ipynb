{
 "cells": [
  {
   "cell_type": "markdown",
   "metadata": {},
   "source": [
    "# Titanic\n",
    "Achieving 86% accuracy on a test data set using an xgboost classifier to predict whether a passenger survived the Titanic disaster"
   ]
  },
  {
   "cell_type": "code",
   "execution_count": null,
   "metadata": {},
   "outputs": [],
   "source": [
    "import pandas as pd\n",
    "import numpy as np\n",
    "from math import ceil\n",
    "\n",
    "%matplotlib inline"
   ]
  },
  {
   "cell_type": "code",
   "execution_count": null,
   "metadata": {
    "scrolled": true
   },
   "outputs": [],
   "source": [
    "df = pd.read_csv('train.csv')\n",
    "kaggle = pd.read_csv('test.csv')\n",
    "\n",
    "df.head()"
   ]
  },
  {
   "cell_type": "markdown",
   "metadata": {},
   "source": [
    "## Feature Engineering\n",
    "### Creating has_cabin"
   ]
  },
  {
   "cell_type": "code",
   "execution_count": null,
   "metadata": {
    "scrolled": false
   },
   "outputs": [],
   "source": [
    "# does the first letter in cabin correlate to floor of ship?\n",
    "grp = df.groupby(df['Cabin'].fillna('Z').apply(lambda x: x[0]))\n",
    "\n",
    "# It looks like passengers without a cabin were significantly less likely to survive\n",
    "grp.Survived.sum() / grp.Survived.count()"
   ]
  },
  {
   "cell_type": "code",
   "execution_count": null,
   "metadata": {},
   "outputs": [],
   "source": [
    "# creating a column in our dataframe that holds whether or not Cabin is NaN\n",
    "def create_has_cabin(cabin):\n",
    "    if pd.notnull(cabin):\n",
    "        return 1\n",
    "    return 0\n",
    "\n",
    "df['has_cabin'] = df['Cabin'].apply(create_has_cabin)\n",
    "kaggle['has_cabin'] = kaggle['Cabin'].apply(create_has_cabin)\n",
    "df.head()"
   ]
  },
  {
   "cell_type": "markdown",
   "metadata": {},
   "source": [
    "### Binarizing Sex"
   ]
  },
  {
   "cell_type": "code",
   "execution_count": null,
   "metadata": {},
   "outputs": [],
   "source": [
    "df.Sex.unique()"
   ]
  },
  {
   "cell_type": "code",
   "execution_count": null,
   "metadata": {},
   "outputs": [],
   "source": [
    "map_sex = {'male':1, 'female':0}\n",
    "\n",
    "df['is_male'] = df['Sex'].map(map_sex)\n",
    "df.drop('Sex', axis=1, inplace=True)\n",
    "kaggle['is_male'] = kaggle['Sex'].map(map_sex)\n",
    "kaggle.drop('Sex', axis=1, inplace=True)\n",
    "\n",
    "df.head()"
   ]
  },
  {
   "cell_type": "markdown",
   "metadata": {},
   "source": [
    "### Creating has_age"
   ]
  },
  {
   "cell_type": "code",
   "execution_count": null,
   "metadata": {
    "scrolled": true
   },
   "outputs": [],
   "source": [
    "# creating a column in our dataframe that holds whether or not Age is NaN\n",
    "def create_has_age(age):\n",
    "    if pd.notnull(age):\n",
    "        return 1\n",
    "    return 0\n",
    "\n",
    "df['has_age'] = df['Age'].apply(create_has_age)\n",
    "kaggle['has_age'] = kaggle['Age'].apply(create_has_age)\n",
    "\n",
    "df.head()"
   ]
  },
  {
   "cell_type": "code",
   "execution_count": null,
   "metadata": {},
   "outputs": [],
   "source": [
    "grp = df.groupby(df['has_age'])\n",
    "\n",
    "# passengers who have an age are more likely to have survived\n",
    "grp.Survived.sum() / grp.Survived.count()"
   ]
  },
  {
   "cell_type": "markdown",
   "metadata": {},
   "source": [
    "### Dealing with null Ages"
   ]
  },
  {
   "cell_type": "code",
   "execution_count": null,
   "metadata": {},
   "outputs": [],
   "source": [
    "def create_age_bin(age):\n",
    "    bin_size = 5\n",
    "    null_age_default = 42\n",
    "    if np.isnan(age):\n",
    "        return null_age_default\n",
    "    return ceil(age/bin_size)*bin_size\n",
    "\n",
    "df['age_bin'] = df['Age'].apply(create_age_bin)\n",
    "kaggle['age_bin'] = kaggle['Age'].apply(create_age_bin)\n",
    "\n",
    "df.head()"
   ]
  },
  {
   "cell_type": "code",
   "execution_count": null,
   "metadata": {},
   "outputs": [],
   "source": [
    "my_list = [25, 40, 30, 35, 42, 55,  5, 15, 60, 20, 10, 70, 45, 50, 65, 75, 80]\n",
    "my_list.sort()\n",
    "\n",
    "print(my_list)"
   ]
  },
  {
   "cell_type": "code",
   "execution_count": null,
   "metadata": {},
   "outputs": [],
   "source": [
    "df.hist(column='age_bin', by='is_male')"
   ]
  },
  {
   "cell_type": "code",
   "execution_count": null,
   "metadata": {
    "scrolled": false
   },
   "outputs": [],
   "source": [
    "def get_survival_probability(group_df):\n",
    "    bin_survivors = len(group_df[group_df['Survived'] == 1])\n",
    "    bin_passengers = len(group_df)\n",
    "    return bin_survivors/bin_passengers\n",
    "\n",
    "series = df.groupby(['is_male', 'age_bin']).apply(get_survival_probability)\n",
    "series.plot(kind='bar')"
   ]
  },
  {
   "cell_type": "markdown",
   "metadata": {},
   "source": [
    "### Creating is_child"
   ]
  },
  {
   "cell_type": "code",
   "execution_count": null,
   "metadata": {},
   "outputs": [],
   "source": [
    "def create_is_child(age):\n",
    "    if np.isnan(age):\n",
    "        return 0\n",
    "    if age <= 20:\n",
    "        return 1\n",
    "    return 0\n",
    "\n",
    "df['is_child'] = df['Age'].apply(create_is_child)\n",
    "kaggle['is_child'] = kaggle['Age'].apply(create_is_child)\n",
    "\n",
    "df.head()"
   ]
  },
  {
   "cell_type": "markdown",
   "metadata": {},
   "source": [
    "### Creating Dummies for Pclass"
   ]
  },
  {
   "cell_type": "code",
   "execution_count": null,
   "metadata": {
    "scrolled": false
   },
   "outputs": [],
   "source": [
    "df = pd.concat([df, pd.get_dummies(df.Pclass, prefix='class')], axis=1);\n",
    "kaggle = pd.concat([kaggle, pd.get_dummies(kaggle.Pclass, prefix='class')], axis=1);\n",
    "\n",
    "df.head()"
   ]
  },
  {
   "cell_type": "markdown",
   "metadata": {},
   "source": [
    "### Creating traveling_alone"
   ]
  },
  {
   "cell_type": "code",
   "execution_count": null,
   "metadata": {
    "scrolled": true
   },
   "outputs": [],
   "source": [
    "# See if the person was traveing alone\n",
    "df['family_size'] = df['Parch'] + df['SibSp'] + 1\n",
    "kaggle['family_size'] = kaggle['Parch'] + kaggle['SibSp'] + 1\n",
    "\n",
    "grp = df.groupby(df['family_size'])\n",
    "\n",
    "# if you traveled alone, you had a 30% chance of survival\n",
    "grp.Survived.sum() / grp.Survived.count()"
   ]
  },
  {
   "cell_type": "code",
   "execution_count": null,
   "metadata": {
    "scrolled": true
   },
   "outputs": [],
   "source": [
    "grp.Survived.count()"
   ]
  },
  {
   "cell_type": "code",
   "execution_count": null,
   "metadata": {},
   "outputs": [],
   "source": [
    "def create_family_buckets(family_size):\n",
    "    if family_size == 1:\n",
    "        return 1\n",
    "    elif family_size <= 4:\n",
    "        return 2\n",
    "    return 3\n",
    "\n",
    "df['family_bucket'] = df['family_size'].apply(create_family_buckets)\n",
    "kaggle['family_bucket'] = kaggle['family_size'].apply(create_family_buckets)\n",
    "\n",
    "df = pd.concat([df, pd.get_dummies(df.family_bucket, prefix='family_bucket')], axis=1);\n",
    "kaggle = pd.concat([kaggle, pd.get_dummies(kaggle.family_bucket, prefix='family_bucket')], axis=1);"
   ]
  },
  {
   "cell_type": "code",
   "execution_count": null,
   "metadata": {},
   "outputs": [],
   "source": [
    "df.head()"
   ]
  },
  {
   "cell_type": "markdown",
   "metadata": {},
   "source": [
    "### Deal With Fare"
   ]
  },
  {
   "cell_type": "code",
   "execution_count": null,
   "metadata": {},
   "outputs": [],
   "source": [
    "df['Fare'].hist(bins=20)"
   ]
  },
  {
   "cell_type": "code",
   "execution_count": null,
   "metadata": {
    "scrolled": true
   },
   "outputs": [],
   "source": [
    "def cheap_ticket(fare):\n",
    "    if fare < 80:\n",
    "        return 1\n",
    "    return 0\n",
    "\n",
    "df['cheap_ticket'] = df['Fare'].apply(cheap_ticket)\n",
    "kaggle['cheap_ticket'] = kaggle['Fare'].apply(cheap_ticket)\n",
    "\n",
    "df.head()"
   ]
  },
  {
   "cell_type": "code",
   "execution_count": null,
   "metadata": {
    "scrolled": true
   },
   "outputs": [],
   "source": [
    "# Does having an cheap ticket affect survival rate?\n",
    "grp = df.groupby(df['cheap_ticket'])\n",
    "\n",
    "# It looks like passengers who bought a cheap ticket were significantly less likely to survive\n",
    "grp.Survived.sum() / grp.Survived.count()"
   ]
  },
  {
   "cell_type": "markdown",
   "metadata": {},
   "source": [
    "### Splitting into Train/Test"
   ]
  },
  {
   "cell_type": "code",
   "execution_count": null,
   "metadata": {},
   "outputs": [],
   "source": [
    "# Making sure we have target values for each of our data points\n",
    "df.Survived.unique()"
   ]
  },
  {
   "cell_type": "markdown",
   "metadata": {},
   "source": [
    "The input to our model will be some of our numeric columns, the target will be 'Survived'"
   ]
  },
  {
   "cell_type": "code",
   "execution_count": null,
   "metadata": {},
   "outputs": [],
   "source": [
    "from sklearn.model_selection import train_test_split\n",
    "\n",
    "model_input_columns = ['Fare',\n",
    "                       'family_bucket_1',\n",
    "                       'family_bucket_2',\n",
    "                       'family_bucket_3',\n",
    "                       'has_cabin',\n",
    "                       'is_male',\n",
    "                       'has_age',\n",
    "                       'age_bin',\n",
    "                       'is_child',\n",
    "                       'class_1',\n",
    "                       'class_2',\n",
    "                       'class_3'\n",
    "                      ]\n",
    "X = df[model_input_columns]\n",
    "y = df.Survived\n",
    "\n",
    "X_train, X_test, y_train, y_test = train_test_split(X, y, test_size=.25, random_state=0)"
   ]
  },
  {
   "cell_type": "markdown",
   "metadata": {},
   "source": [
    "## xgboost Model Creation"
   ]
  },
  {
   "cell_type": "code",
   "execution_count": null,
   "metadata": {},
   "outputs": [],
   "source": [
    "from xgboost import XGBClassifier"
   ]
  },
  {
   "cell_type": "code",
   "execution_count": null,
   "metadata": {},
   "outputs": [],
   "source": [
    "xgb = XGBClassifier(n_estimators=100,\n",
    "                    max_depth=3,\n",
    "                    learning_rate=.1,\n",
    "                    subsample=.9,\n",
    "                    colsample_bytree=1,\n",
    "                    gamma=1\n",
    "                   )\n",
    "xgb.fit(X_train, y_train)"
   ]
  },
  {
   "cell_type": "code",
   "execution_count": null,
   "metadata": {},
   "outputs": [],
   "source": [
    "from sklearn.metrics import accuracy_score\n",
    "\n",
    "# predict\n",
    "y_pred = xgb.predict(X_train)\n",
    "\n",
    "# evaluate predictions\n",
    "accuracy = accuracy_score(y_train, y_pred)\n",
    "print(\"Accuracy: %.2f%%\" % (accuracy * 100.0))"
   ]
  },
  {
   "cell_type": "markdown",
   "metadata": {},
   "source": [
    "## xgboost Model Evaluation"
   ]
  },
  {
   "cell_type": "code",
   "execution_count": null,
   "metadata": {},
   "outputs": [],
   "source": [
    "# predict\n",
    "y_pred = xgb.predict(X_test)\n",
    "predictions = [round(value) for value in y_pred]\n",
    "\n",
    "# evaluate predictions\n",
    "accuracy = accuracy_score(y_test, predictions)\n",
    "print(\"Accuracy: %.2f%%\" % (accuracy * 100.0))"
   ]
  },
  {
   "cell_type": "code",
   "execution_count": null,
   "metadata": {},
   "outputs": [],
   "source": [
    "# confusion matrix\n",
    "from sklearn.metrics import confusion_matrix\n",
    "\n",
    "confusion_matrix = confusion_matrix(y_test, y_pred, labels=[0,1])\n",
    "print(\"Dead Correctly Classified as Dead:\\t\\t\"+str(confusion_matrix[0][0]))\n",
    "print(\"Survivors Incorrectly Classified as Dead:\\t\"+str(confusion_matrix[1][0]))\n",
    "print(\"Dead Incorrectly Classified as Survivors:\\t\"+str(confusion_matrix[0][1]))\n",
    "print(\"Survivors Correctly Classified as Survivors:\\t\"+str(confusion_matrix[1][1]))"
   ]
  },
  {
   "cell_type": "markdown",
   "metadata": {},
   "source": [
    "## Kaggle Competition Submission\n",
    "Running our model on the dataset in test.csv and exporting the results to CSV"
   ]
  },
  {
   "cell_type": "code",
   "execution_count": null,
   "metadata": {},
   "outputs": [],
   "source": [
    "kaggle.head()"
   ]
  },
  {
   "cell_type": "code",
   "execution_count": null,
   "metadata": {
    "scrolled": true
   },
   "outputs": [],
   "source": [
    "kaggle_X = kaggle[model_input_columns]\n",
    "kaggle['Survived'] = xgb.predict(kaggle_X)"
   ]
  },
  {
   "cell_type": "code",
   "execution_count": null,
   "metadata": {},
   "outputs": [],
   "source": [
    "submission_columns = ['PassengerId', 'Survived']\n",
    "submission = kaggle[submission_columns]"
   ]
  },
  {
   "cell_type": "code",
   "execution_count": null,
   "metadata": {},
   "outputs": [],
   "source": [
    "submission.to_csv('kaggle-submission.csv', index=False)"
   ]
  }
 ],
 "metadata": {
  "kernelspec": {
   "display_name": "Python 3",
   "language": "python",
   "name": "python3"
  },
  "language_info": {
   "codemirror_mode": {
    "name": "ipython",
    "version": 3
   },
   "file_extension": ".py",
   "mimetype": "text/x-python",
   "name": "python",
   "nbconvert_exporter": "python",
   "pygments_lexer": "ipython3",
   "version": "3.7.3"
  }
 },
 "nbformat": 4,
 "nbformat_minor": 2
}
